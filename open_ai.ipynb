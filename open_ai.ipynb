{
 "cells": [
  {
   "cell_type": "markdown",
   "metadata": {},
   "source": [
    "## Using OpenAI with Langchain"
   ]
  },
  {
   "cell_type": "code",
   "execution_count": 10,
   "metadata": {},
   "outputs": [],
   "source": [
    "from langchain_openai import ChatOpenAI\n",
    "from langchain.prompts import PromptTemplate\n",
    "\n",
    "\n"
   ]
  },
  {
   "cell_type": "code",
   "execution_count": 11,
   "metadata": {},
   "outputs": [],
   "source": [
    "from dotenv import load_dotenv\n",
    "import os\n",
    "load_dotenv(\"../.env\")\n",
    "api_key = os.getenv(\"OPENAI_KEY\")"
   ]
  },
  {
   "cell_type": "code",
   "execution_count": 12,
   "metadata": {},
   "outputs": [],
   "source": [
    "llm = ChatOpenAI(model_name=\"gpt-4\", temperature=0.7, max_tokens=150, api_key=api_key)"
   ]
  },
  {
   "cell_type": "code",
   "execution_count": 13,
   "metadata": {},
   "outputs": [
    {
     "name": "stdout",
     "output_type": "stream",
     "text": [
      "content='acousticness: 0.8\\ndanceability: 0.3\\nenergy: 0.2\\ninstrumentalness: 0.5\\nliveness: 0.1\\nvalence: 0.3\\ntempo: 70\\nspeechiness: 0.2' additional_kwargs={'refusal': None} response_metadata={'token_usage': {'completion_tokens': 62, 'prompt_tokens': 201, 'total_tokens': 263, 'completion_tokens_details': {'accepted_prediction_tokens': 0, 'audio_tokens': 0, 'reasoning_tokens': 0, 'rejected_prediction_tokens': 0}, 'prompt_tokens_details': {'audio_tokens': 0, 'cached_tokens': 0}}, 'model_name': 'gpt-4-0613', 'system_fingerprint': None, 'finish_reason': 'stop', 'logprobs': None} id='run-6632fdfc-0ec5-4763-9a0e-5247ef771ea0-0' usage_metadata={'input_tokens': 201, 'output_tokens': 62, 'total_tokens': 263, 'input_token_details': {'audio': 0, 'cache_read': 0}, 'output_token_details': {'audio': 0, 'reasoning': 0}}\n"
     ]
    }
   ],
   "source": [
    "# Create a prompt template\n",
    "prompt = PromptTemplate(\n",
    "    input_variables=[\"description\"],\n",
    "    template='''\n",
    "These are the parameters needed for the Spotify Recommendations API. Some key parameters include:\n",
    "    acousticness: A measure of whether the track is acoustic.\n",
    "    danceability: How suitable the track is for dancing, based on tempo, rhythm stability, etc.\n",
    "    energy: A measure of intensity and activity (e.g., fast, loud, or agitated music).\n",
    "    instrumentalness: The likelihood that the track is instrumental.\n",
    "    liveness: A measure of the presence of a live audience.\n",
    "    valence: A measure of the musical positiveness conveyed by the track (e.g., happy vs. sad).\n",
    "    tempo: The tempo of the track in beats per minute.\n",
    "    speechiness: A measure of the presence of spoken words.\n",
    "According to the user's description of the music they would like to listen to: {description}. \n",
    "Please provide values for all fields above. Respond only with said values.\n",
    "'''\n",
    ")\n",
    "\n",
    "# Set up the chain with the new ChatOpenAI model\n",
    "chain = prompt | llm\n",
    "\n",
    "# Run the chain with an example input\n",
    "user_description = \"A mellow, acoustic track with a calming vibe and soft vocals.\"\n",
    "response = chain.invoke({\"description\": user_description})\n",
    "print(response)"
   ]
  },
  {
   "cell_type": "code",
   "execution_count": 18,
   "metadata": {},
   "outputs": [],
   "source": [
    "#Converting response into dictionary for Spotify Recommendations\n",
    "def parse_model_output_to_dict(model_output):\n",
    "    # Extract the content from the AIMessage object\n",
    "    content = model_output.content if hasattr(model_output, 'content') else model_output\n",
    "    \n",
    "    # Split the model output into lines\n",
    "    output_lines = content.strip().splitlines()\n",
    "    \n",
    "    # Initialize an empty dictionary to store the results\n",
    "    result_dict = {}\n",
    "    \n",
    "    # Loop through each line, split by ':' and add the result to the dictionary\n",
    "    for line in output_lines:\n",
    "        key, value = line.split(':')\n",
    "        result_dict[key.strip()] = float(value.strip())  # Convert the value to float if it's a numeric value\n",
    "\n",
    "    return result_dict\n",
    "\n"
   ]
  },
  {
   "cell_type": "code",
   "execution_count": 19,
   "metadata": {},
   "outputs": [
    {
     "name": "stdout",
     "output_type": "stream",
     "text": [
      "{'acousticness': 0.8, 'danceability': 0.3, 'energy': 0.2, 'instrumentalness': 0.5, 'liveness': 0.1, 'valence': 0.3, 'tempo': 70.0, 'speechiness': 0.2}\n"
     ]
    }
   ],
   "source": [
    "print(parse_model_output_to_dict(response))"
   ]
  }
 ],
 "metadata": {
  "kernelspec": {
   "display_name": "spotify_llm_env",
   "language": "python",
   "name": "python3"
  },
  "language_info": {
   "codemirror_mode": {
    "name": "ipython",
    "version": 3
   },
   "file_extension": ".py",
   "mimetype": "text/x-python",
   "name": "python",
   "nbconvert_exporter": "python",
   "pygments_lexer": "ipython3",
   "version": "3.12.4"
  }
 },
 "nbformat": 4,
 "nbformat_minor": 2
}
