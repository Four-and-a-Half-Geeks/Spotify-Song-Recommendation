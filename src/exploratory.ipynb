{
 "cells": [
  {
   "cell_type": "code",
   "execution_count": 1,
   "metadata": {},
   "outputs": [
    {
     "name": "stdout",
     "output_type": "stream",
     "text": [
      "All libraries imported successfully.\n"
     ]
    }
   ],
   "source": [
    "import os\n",
    "import pandas as pd\n",
    "import numpy as np\n",
    "import seaborn as sns\n",
    "from dotenv import load_dotenv\n",
    "import spotipy\n",
    "from spotipy.oauth2 import SpotifyClientCredentials\n",
    "from spotipy.exceptions import SpotifyException\n",
    "import matplotlib.pyplot as plt\n",
    "import random\n",
    "\n",
    "print(\"All libraries imported successfully.\")"
   ]
  },
  {
   "cell_type": "code",
   "execution_count": 2,
   "metadata": {},
   "outputs": [
    {
     "data": {
      "text/plain": [
       "True"
      ]
     },
     "execution_count": 2,
     "metadata": {},
     "output_type": "execute_result"
    }
   ],
   "source": [
    "# Load the .env file variables\n",
    "load_dotenv(\"../.env\")"
   ]
  },
  {
   "cell_type": "code",
   "execution_count": null,
   "metadata": {},
   "outputs": [],
   "source": [
    "client_id = os.getenv(\"SPOTIFY_CLIENT_ID\")\n",
    "client_secret = os.environ.get(\"SPOTIFY_CLIENT_SECRET\")"
   ]
  },
  {
   "cell_type": "code",
   "execution_count": 4,
   "metadata": {},
   "outputs": [],
   "source": [
    "# Authenticate with Spotify\n",
    "auth_manager = SpotifyClientCredentials(client_id=client_id, client_secret=client_secret)\n",
    "sp = spotipy.Spotify(auth_manager=auth_manager)"
   ]
  },
  {
   "cell_type": "code",
   "execution_count": 7,
   "metadata": {},
   "outputs": [],
   "source": [
    "class SpotifyRecommender:\n",
    "    def __init__(self, sp):\n",
    "        self.sp = sp\n",
    "\n",
    "    def get_available_genres(self):\n",
    "        \"\"\"Retrieve available genre seeds from Spotify.\"\"\"\n",
    "        return self.sp.recommendation_genre_seeds()['genres']\n",
    "\n",
    "    def search_artist_id(self, artist_name):\n",
    "        \"\"\"Search for an artist and return their Spotify ID.\"\"\"\n",
    "        result = self.sp.search(q='artist:' + artist_name, type='artist', limit=1)\n",
    "        if result['artists']['items']:\n",
    "            return result['artists']['items'][0]['id']\n",
    "        print(f\"Warning: No artist found for '{artist_name}'\")\n",
    "        return None\n",
    "\n",
    "    def search_track_id(self, track_name):\n",
    "        \"\"\"Search for a track and return its Spotify ID.\"\"\"\n",
    "        result = self.sp.search(q='track:' + track_name, type='track', limit=1)\n",
    "        if result['tracks']['items']:\n",
    "            return result['tracks']['items'][0]['id']\n",
    "        print(f\"Warning: No track found for '{track_name}'\")\n",
    "        return None\n",
    "    # Main method for getting recommendations\n",
    "    def get_track_recommendations(self, track_seeds=None, artist_seeds=None, genre_seeds=None, \n",
    "                                  amount=20, country=\"US\", mood=None):\n",
    "        if not (track_seeds or artist_seeds or genre_seeds):\n",
    "            raise ValueError(\"At least one of seed_tracks, seed_artists, or seed_genres must be provided.\")\n",
    "        \n",
    "        # Convert genre seeds to lowercase and filter based on available genres\n",
    "        available_genres = self.get_available_genres()\n",
    "        genre_seeds = [genre.lower() for genre in genre_seeds if genre.lower() in available_genres]\n",
    "        \n",
    "        # Set default Spotify audio feature values\n",
    "        spotify_data = {\n",
    "            'acousticness': 0.5,\n",
    "            'danceability': 0.5,\n",
    "            'duration_ms': 210000,\n",
    "            'energy': 0.5,\n",
    "            'instrumentalness': 0.0,\n",
    "            'speechiness': 0.5,\n",
    "            'tempo': 120.0,\n",
    "            'valence': 0.5\n",
    "        }\n",
    "        \n",
    "        # Define mood parameters\n",
    "        mood_map = {\n",
    "            'happy': {'valence': 0.8, 'danceability': 0.7},\n",
    "            'sad': {'valence': 0.2, 'acousticness': 0.7},\n",
    "            'dance': {'danceability': 0.9, 'energy': 0.8},\n",
    "            'relaxed': {'valence': 0.6, 'acousticness': 0.8, 'energy': 0.3, 'tempo': 80.0},\n",
    "            'energetic': {'energy': 0.9, 'danceability': 0.8, 'tempo': 140.0},\n",
    "            'romantic': {'valence': 0.7, 'acousticness': 0.6, 'energy': 0.4},\n",
    "            'calm': {'valence': 0.4, 'acousticness': 0.9, 'energy': 0.2, 'tempo': 60.0},\n",
    "            'angry': {'energy': 0.8, 'valence': 0.2, 'danceability': 0.5, 'tempo': 150.0},\n",
    "            'focus': {'acousticness': 0.6, 'instrumentalness': 0.5, 'tempo': 100.0},\n",
    "            'uplifting': {'valence': 0.9, 'energy': 0.7, 'danceability': 0.6, 'tempo': 120.0}\n",
    "        }\n",
    "        \n",
    "        # Apply mood-based filtering if valid mood is provided\n",
    "        if mood and mood.lower() in mood_map:\n",
    "            spotify_data.update(mood_map[mood.lower()])\n",
    "        elif mood:\n",
    "            print(f\"Invalid mood '{mood}' provided. Skipping mood-based filtering.\")\n",
    "\n",
    "        # Prepare the input parameters for the Spotify API\n",
    "        try:\n",
    "            recommendations = self.sp.recommendations(\n",
    "                seed_tracks=track_seeds,\n",
    "                seed_artists=artist_seeds,\n",
    "                seed_genres=genre_seeds,\n",
    "                limit=amount,\n",
    "                country=country,\n",
    "                target_acousticness=spotify_data.get('acousticness', 0.5),\n",
    "                target_danceability=spotify_data.get('danceability', 0.5),\n",
    "                target_duration_ms=int(spotify_data.get('duration_ms', 210000)),\n",
    "                target_energy=spotify_data.get('energy', 0.5),\n",
    "                target_instrumentalness=spotify_data.get('instrumentalness', 0.0),\n",
    "                target_speechiness=spotify_data.get('speechiness', 0.5),\n",
    "                target_tempo=spotify_data.get('tempo', 120.0),\n",
    "                target_valence=spotify_data.get('valence', 0.5)\n",
    "            )\n",
    "            # Return only track names as per requirements\n",
    "            return [(track['name'], track['artists'][0]['name']) for track in recommendations['tracks']]\n",
    "        except SpotifyException as e:\n",
    "            print(f\"Error: {e}\")\n",
    "            return None\n"
   ]
  },
  {
   "cell_type": "code",
   "execution_count": 8,
   "metadata": {},
   "outputs": [],
   "source": [
    "def get_user_input():\n",
    "    \"\"\"Prompt the user for genres, artists, songs, and mood.\"\"\"\n",
    "    # Get available genres\n",
    "    available_genres = SpotifyRecommender(sp).get_available_genres()\n",
    "    print(\"Available genres:\", \", \".join(available_genres))\n",
    "    \n",
    "    # Genre input\n",
    "    genres = input(\"Enter genres separated by commas (or press Enter to skip): \").lower().split(',')\n",
    "    genres = [genre.strip() for genre in genres if genre.strip() in available_genres]\n",
    "\n",
    "    # Artist input\n",
    "    artists = input(\"Enter artist names separated by commas (or press Enter to skip): \").split(',')\n",
    "    artists = [artist.strip() for artist in artists if artist.strip()]\n",
    "\n",
    "    # Song input\n",
    "    songs = input(\"Enter song names separated by commas (or press Enter to skip): \").split(',')\n",
    "    songs = [song.strip() for song in songs if song.strip()]\n",
    "\n",
    "    # Mood input\n",
    "    available_moods = [\"happy\", \"sad\", \"dance\", \"relaxed\", \"energetic\", \"romantic\", \"calm\", \"angry\", \"focus\", \"uplifting\"]\n",
    "    print(\"Available moods:\", \", \".join(available_moods))\n",
    "    mood = input(\"Enter a mood (or press Enter to skip): \").strip().lower()\n",
    "    if mood not in available_moods and mood:\n",
    "        print(\"Invalid mood selected. Skipping mood filter.\")\n",
    "        mood = None\n",
    "\n",
    "    return genres, artists, songs, mood"
   ]
  },
  {
   "cell_type": "code",
   "execution_count": 9,
   "metadata": {},
   "outputs": [],
   "source": [
    "# Example usage\n",
    "def main():\n",
    "    print(\"Welcome to the Spotify Recommendation System!\")\n",
    "    \n",
    "    # Collect genres, artists, songs, and mood from user input\n",
    "    genres, artists, songs, mood = get_user_input()\n",
    "    \n",
    "    # Convert artist and song names to IDs\n",
    "    recommender = SpotifyRecommender(sp)\n",
    "    genre_seeds = genres\n",
    "    artist_seeds = [recommender.search_artist_id(artist) for artist in artists if recommender.search_artist_id(artist)]\n",
    "    track_seeds = [recommender.search_track_id(song) for song in songs if recommender.search_track_id(song)]\n",
    "\n",
    "    # Fetch and display recommendations\n",
    "    recommendations = recommender.get_track_recommendations(track_seeds=track_seeds, \n",
    "                                                            artist_seeds=artist_seeds, \n",
    "                                                            genre_seeds=genre_seeds, \n",
    "                                                            mood=mood)\n",
    "    if recommendations:\n",
    "        print(\"\\nRecommended Songs:\")\n",
    "        for idx, (track_name, artist_name) in enumerate(recommendations, start=1):\n",
    "            print(f\"{idx}. {track_name} by {artist_name}\")\n",
    "    else:\n",
    "        print(\"No recommendations available. Try using different input options.\")"
   ]
  },
  {
   "cell_type": "code",
   "execution_count": 11,
   "metadata": {},
   "outputs": [
    {
     "name": "stdout",
     "output_type": "stream",
     "text": [
      "Welcome to the Spotify Recommendation System!\n",
      "Available genres: acoustic, afrobeat, alt-rock, alternative, ambient, anime, black-metal, bluegrass, blues, bossanova, brazil, breakbeat, british, cantopop, chicago-house, children, chill, classical, club, comedy, country, dance, dancehall, death-metal, deep-house, detroit-techno, disco, disney, drum-and-bass, dub, dubstep, edm, electro, electronic, emo, folk, forro, french, funk, garage, german, gospel, goth, grindcore, groove, grunge, guitar, happy, hard-rock, hardcore, hardstyle, heavy-metal, hip-hop, holidays, honky-tonk, house, idm, indian, indie, indie-pop, industrial, iranian, j-dance, j-idol, j-pop, j-rock, jazz, k-pop, kids, latin, latino, malay, mandopop, metal, metal-misc, metalcore, minimal-techno, movies, mpb, new-age, new-release, opera, pagode, party, philippines-opm, piano, pop, pop-film, post-dubstep, power-pop, progressive-house, psych-rock, punk, punk-rock, r-n-b, rainy-day, reggae, reggaeton, road-trip, rock, rock-n-roll, rockabilly, romance, sad, salsa, samba, sertanejo, show-tunes, singer-songwriter, ska, sleep, songwriter, soul, soundtracks, spanish, study, summer, swedish, synth-pop, tango, techno, trance, trip-hop, turkish, work-out, world-music\n",
      "Available moods: happy, sad, dance, relaxed, energetic, romantic, calm, angry, focus, uplifting\n",
      "\n",
      "Recommended Songs:\n",
      "1. Love Hurts by Nazareth\n",
      "2. Higher by Beatarce\n",
      "3. One Day (Vandaag) - Radio Edit by Bakermat\n",
      "4. Roots Bloody Roots by Sepultura\n",
      "5. I Believe in a Thing Called Love by The Darkness\n",
      "6. We Were Gods (feat. Urban Cone & Lucas Nord) - Radio Edit by John Dahlbäck\n",
      "7. All Night - Cash Cash Remix; Radio Edit by Icona Pop\n",
      "8. Forever by Pope\n",
      "9. Cowboys from Hell by Pantera\n",
      "10. Bullet Train (feat. Joni Fatora) by Stephen Swartz\n",
      "11. Clarity by Zedd\n",
      "12. Mother by Danzig\n",
      "13. Every Chance We Get We Run (feat. Tegan & Sara) by David Guetta\n",
      "14. Wind Of Change by Scorpions\n",
      "15. Walk by Pantera\n",
      "16. You - Tiësto vs. Twoloud Radio Edit by Galantis\n",
      "17. Rock 'n' Roll (Will Take You to the Mountain) by Skrillex\n",
      "18. Need Your Heart (feat. Kai) by Adventure Club\n",
      "19. High School Art Class by Pretty Lights\n",
      "20. Icarus by Madeon\n"
     ]
    }
   ],
   "source": [
    "# Run the program\n",
    "if __name__ == \"__main__\":\n",
    "    main()"
   ]
  }
 ],
 "metadata": {
  "kernelspec": {
   "display_name": "Python 3",
   "language": "python",
   "name": "python3"
  },
  "language_info": {
   "codemirror_mode": {
    "name": "ipython",
    "version": 3
   },
   "file_extension": ".py",
   "mimetype": "text/x-python",
   "name": "python",
   "nbconvert_exporter": "python",
   "pygments_lexer": "ipython3",
   "version": "3.13.0"
  }
 },
 "nbformat": 4,
 "nbformat_minor": 2
}
