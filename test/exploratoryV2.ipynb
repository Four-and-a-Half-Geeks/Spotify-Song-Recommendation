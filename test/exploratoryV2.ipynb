{
 "cells": [
  {
   "cell_type": "code",
   "execution_count": 10,
   "metadata": {},
   "outputs": [
    {
     "name": "stdout",
     "output_type": "stream",
     "text": [
      "All libraries imported successfully.\n"
     ]
    }
   ],
   "source": [
    "import os\n",
    "import pandas as pd\n",
    "import numpy as np\n",
    "import seaborn as sns\n",
    "from dotenv import load_dotenv\n",
    "import spotipy\n",
    "from spotipy.oauth2 import SpotifyClientCredentials\n",
    "from spotipy.exceptions import SpotifyException\n",
    "import matplotlib.pyplot as plt\n",
    "import random\n",
    "\n",
    "print(\"All libraries imported successfully.\")"
   ]
  },
  {
   "cell_type": "code",
   "execution_count": 11,
   "metadata": {},
   "outputs": [
    {
     "data": {
      "text/plain": [
       "True"
      ]
     },
     "execution_count": 11,
     "metadata": {},
     "output_type": "execute_result"
    }
   ],
   "source": [
    "# Load the .env file variables\n",
    "load_dotenv(\"../.env\")"
   ]
  },
  {
   "cell_type": "code",
   "execution_count": 12,
   "metadata": {},
   "outputs": [],
   "source": [
    "client_id = os.getenv(\"CLIENT_ID\")\n",
    "client_secret = os.environ.get(\"CLIENT_SECRET\")"
   ]
  },
  {
   "cell_type": "code",
   "execution_count": 13,
   "metadata": {},
   "outputs": [],
   "source": [
    "# Authenticate with Spotify\n",
    "auth_manager = SpotifyClientCredentials(client_id=client_id, client_secret=client_secret)\n",
    "sp = spotipy.Spotify(auth_manager=auth_manager)"
   ]
  },
  {
   "cell_type": "code",
   "execution_count": 14,
   "metadata": {},
   "outputs": [],
   "source": [
    "# Helper functions\n",
    "def get_available_genres():\n",
    "    \"\"\"Retrieve available genre seeds from Spotify.\"\"\"\n",
    "    return sp.recommendation_genre_seeds()['genres']\n",
    "\n",
    "def search_artist_id(artist_name):\n",
    "    \"\"\"Search for an artist and return their Spotify ID.\"\"\"\n",
    "    result = sp.search(q='artist:' + artist_name, type='artist', limit=1)\n",
    "    if result['artists']['items']:\n",
    "        return result['artists']['items'][0]['id']\n",
    "    print(f\"Warning: No artist found for '{artist_name}'\")\n",
    "    return None\n",
    "\n",
    "def search_track_id(track_name):\n",
    "    \"\"\"Search for a track and return its Spotify ID.\"\"\"\n",
    "    result = sp.search(q='track:' + track_name, type='track', limit=1)\n",
    "    if result['tracks']['items']:\n",
    "        return result['tracks']['items'][0]['id']\n",
    "    print(f\"Warning: No track found for '{track_name}'\")\n",
    "    return None\n",
    "\n",
    "def get_combined_recommendations(genres=None, artists=None, songs=None, mood=None, limit=10):\n",
    "    \"\"\"Fetch combined recommendations based on selected genres, artists, songs, and mood.\"\"\"\n",
    "    seeds = {'seed_genres': [], 'seed_artists': [], 'seed_tracks': []}\n",
    "    \n",
    "    # Validate and add genres\n",
    "    available_genres = get_available_genres()\n",
    "    valid_genres = [genre.lower() for genre in genres if genre.lower() in available_genres]\n",
    "    if not valid_genres and genres:\n",
    "        print(\"Error: None of the provided genres are valid.\")\n",
    "    seeds['seed_genres'].extend(valid_genres)\n",
    "    \n",
    "    # Validate and add artist IDs\n",
    "    artist_ids = [search_artist_id(artist) for artist in artists]\n",
    "    artist_ids = [artist_id for artist_id in artist_ids if artist_id]\n",
    "    if not artist_ids and artists:\n",
    "        print(\"Error: None of the provided artists were found.\")\n",
    "    seeds['seed_artists'].extend(artist_ids)\n",
    "    \n",
    "    # Validate and add track IDs\n",
    "    track_ids = [search_track_id(song) for song in songs]\n",
    "    track_ids = [track_id for track_id in track_ids if track_id]\n",
    "    if not track_ids and songs:\n",
    "        print(\"Error: None of the provided songs were found.\")\n",
    "    seeds['seed_tracks'].extend(track_ids)\n",
    "\n",
    "    # Check for at least one valid seed\n",
    "    if not (seeds['seed_genres'] or seeds['seed_artists'] or seeds['seed_tracks']):\n",
    "        print(\"Error: At least one valid genre, artist, or song is required for recommendations.\")\n",
    "        return []\n",
    "\n",
    "    # Define mood-based parameters\n",
    "    mood_map = {\n",
    "        'happy': {'target_valence': 0.8, 'target_danceability': 0.7},\n",
    "        'sad': {'target_valence': 0.2, 'target_acousticness': 0.7},\n",
    "        'dance': {'target_danceability': 0.9, 'target_energy': 0.8},\n",
    "        'relaxed': {'target_valence': 0.6, 'target_acousticness': 0.8, 'target_energy': 0.3, 'target_tempo': 80.0},\n",
    "        'energetic': {'target_energy': 0.9, 'target_danceability': 0.8, 'target_tempo': 140.0},\n",
    "        'romantic': {'target_valence': 0.7, 'target_acousticness': 0.6, 'target_energy': 0.4},\n",
    "        'calm': {'target_valence': 0.4, 'target_acousticness': 0.9, 'target_energy': 0.2, 'target_tempo': 60.0},\n",
    "        'angry': {'target_energy': 0.8, 'target_valence': 0.2, 'target_danceability': 0.5, 'target_tempo': 150.0},\n",
    "        'focus': {'target_acousticness': 0.6, 'target_instrumentalness': 0.5, 'target_tempo': 100.0},\n",
    "        'uplifting': {'target_valence': 0.9, 'target_energy': 0.7, 'target_danceability': 0.6, 'target_tempo': 120.0}\n",
    "    }\n",
    "\n",
    "    # Apply mood-based parameters if valid mood is provided\n",
    "    mood_params = mood_map.get(mood.lower(), {}) if mood else {}\n",
    "\n",
    "    try:\n",
    "        # Fetch recommendations with mood filters if applicable\n",
    "        recommendations = sp.recommendations(seed_genres=seeds['seed_genres'], \n",
    "                                             seed_artists=seeds['seed_artists'], \n",
    "                                             seed_tracks=seeds['seed_tracks'], \n",
    "                                             limit=limit, \n",
    "                                             **mood_params)\n",
    "        # Return formatted track recommendations\n",
    "        return [(track['name'], track['artists'][0]['name']) for track in recommendations['tracks']]\n",
    "    except SpotifyException as e:\n",
    "        print(f\"Spotify API error: {e}\")\n",
    "        return []\n"
   ]
  },
  {
   "cell_type": "code",
   "execution_count": 15,
   "metadata": {},
   "outputs": [],
   "source": [
    "def input_genres():\n",
    "    \"\"\"Prompt user for genres and validate selection.\"\"\"\n",
    "    available_genres = get_available_genres()\n",
    "    print(\"Available genres:\", available_genres)\n",
    "    genres = input(\"Enter genres separated by commas (or press Enter to skip): \").lower().split(',')\n",
    "    genres = [genre.strip() for genre in genres if genre.strip() in available_genres]\n",
    "    if genres:\n",
    "        print(f\"Genres selected: {genres}\")\n",
    "    else:\n",
    "        print(\"No valid genres selected.\")\n",
    "    return genres\n",
    "\n",
    "def input_artists():\n",
    "    \"\"\"Prompt user for artist names and validate selection.\"\"\"\n",
    "    artists = input(\"Enter artist names separated by commas (or press Enter to skip): \").split(',')\n",
    "    artists = [artist.strip() for artist in artists if artist.strip()]\n",
    "    artist_ids = []\n",
    "    for artist in artists:\n",
    "        artist_id = search_artist_id(artist)\n",
    "        if artist_id:\n",
    "            artist_ids.append(artist)\n",
    "    if artist_ids:\n",
    "        print(f\"Artists selected: {artist_ids}\")\n",
    "    else:\n",
    "        print(\"No valid artists found.\")\n",
    "    return artist_ids\n",
    "\n",
    "def input_songs():\n",
    "    \"\"\"Prompt user for song names and validate selection.\"\"\"\n",
    "    songs = input(\"Enter song names separated by commas (or press Enter to skip): \").split(',')\n",
    "    songs = [song.strip() for song in songs if song.strip()]\n",
    "    track_ids = []\n",
    "    for song in songs:\n",
    "        track_id = search_track_id(song)\n",
    "        if track_id:\n",
    "            track_ids.append(song)\n",
    "    if track_ids:\n",
    "        print(f\"Songs selected: {track_ids}\")\n",
    "    else:\n",
    "        print(\"No valid songs found.\")\n",
    "    return track_ids    \n",
    "\n",
    "def input_mood():\n",
    "    \"\"\"Prompt user for mood and validate selection.\"\"\"\n",
    "    available_moods = [\"happy\", \"sad\", \"dance\", \"relaxed\", \"energetic\", \"romantic\", \"calm\", \"angry\", \"focus\", \"uplifting\"]\n",
    "    print(\"Available moods:\", \", \".join(available_moods))\n",
    "    mood = input(\"Enter a mood (or press Enter to skip): \").strip().lower()\n",
    "    if mood in available_moods:\n",
    "        print(f\"Mood selected: {mood}\")\n",
    "        return mood\n",
    "    elif mood:\n",
    "        print(\"Invalid mood selected. Skipping mood filter.\")\n",
    "    return None\n"
   ]
  },
  {
   "cell_type": "code",
   "execution_count": 16,
   "metadata": {},
   "outputs": [],
   "source": [
    "def main():\n",
    "    print(\"Welcome to the Spotify Recommendation System!\")\n",
    "    \n",
    "    # Collect genres, artists, songs, and mood from user input\n",
    "    genres = input_genres()\n",
    "    artists = input_artists()\n",
    "    songs = input_songs()\n",
    "    mood = input_mood()\n",
    "    \n",
    "    # Fetch and display recommendations\n",
    "    recommendations = get_combined_recommendations(genres=genres, artists=artists, songs=songs, mood=mood, limit=10)\n",
    "    if recommendations:\n",
    "        print(\"\\nRecommended Songs:\")\n",
    "        for idx, (track_name, artist_name) in enumerate(recommendations, start=1):\n",
    "            print(f\"{idx}. {track_name} by {artist_name}\")\n",
    "    else:\n",
    "        print(\"No recommendations available. Try using different input options.\")\n"
   ]
  },
  {
   "cell_type": "code",
   "execution_count": 17,
   "metadata": {},
   "outputs": [
    {
     "name": "stdout",
     "output_type": "stream",
     "text": [
      "Welcome to the Spotify Recommendation System!\n",
      "Available genres: ['acoustic', 'afrobeat', 'alt-rock', 'alternative', 'ambient', 'anime', 'black-metal', 'bluegrass', 'blues', 'bossanova', 'brazil', 'breakbeat', 'british', 'cantopop', 'chicago-house', 'children', 'chill', 'classical', 'club', 'comedy', 'country', 'dance', 'dancehall', 'death-metal', 'deep-house', 'detroit-techno', 'disco', 'disney', 'drum-and-bass', 'dub', 'dubstep', 'edm', 'electro', 'electronic', 'emo', 'folk', 'forro', 'french', 'funk', 'garage', 'german', 'gospel', 'goth', 'grindcore', 'groove', 'grunge', 'guitar', 'happy', 'hard-rock', 'hardcore', 'hardstyle', 'heavy-metal', 'hip-hop', 'holidays', 'honky-tonk', 'house', 'idm', 'indian', 'indie', 'indie-pop', 'industrial', 'iranian', 'j-dance', 'j-idol', 'j-pop', 'j-rock', 'jazz', 'k-pop', 'kids', 'latin', 'latino', 'malay', 'mandopop', 'metal', 'metal-misc', 'metalcore', 'minimal-techno', 'movies', 'mpb', 'new-age', 'new-release', 'opera', 'pagode', 'party', 'philippines-opm', 'piano', 'pop', 'pop-film', 'post-dubstep', 'power-pop', 'progressive-house', 'psych-rock', 'punk', 'punk-rock', 'r-n-b', 'rainy-day', 'reggae', 'reggaeton', 'road-trip', 'rock', 'rock-n-roll', 'rockabilly', 'romance', 'sad', 'salsa', 'samba', 'sertanejo', 'show-tunes', 'singer-songwriter', 'ska', 'sleep', 'songwriter', 'soul', 'soundtracks', 'spanish', 'study', 'summer', 'swedish', 'synth-pop', 'tango', 'techno', 'trance', 'trip-hop', 'turkish', 'work-out', 'world-music']\n",
      "Genres selected: ['edm']\n",
      "No valid artists found.\n",
      "No valid songs found.\n",
      "Available moods: happy, sad, dance, relaxed, energetic, romantic, calm, angry, focus, uplifting\n",
      "\n",
      "Recommended Songs:\n",
      "1. Sail - Unlimited Gravity Remix by AWOLNATION\n",
      "2. Apollo - Original Mix by Hardwell\n",
      "3. In My Mind (Axwell Radio Edit) by Ivan Gough\n",
      "4. Bigfoot - Dillon Francis Remix by W&W\n",
      "5. Ghostwriter by RJD2\n",
      "6. Killin' It by Krewella\n",
      "7. Crystallize by Lindsey Stirling\n",
      "8. Everyday - (Netsky Remix) by Rusko\n",
      "9. You - Tiësto vs. Twoloud Radio Edit by Galantis\n",
      "10. I Can See It In Your Face by Pretty Lights\n"
     ]
    }
   ],
   "source": [
    "# Run the program\n",
    "if __name__ == \"__main__\":\n",
    "    main()"
   ]
  }
 ],
 "metadata": {
  "kernelspec": {
   "display_name": "myvenv",
   "language": "python",
   "name": "python3"
  },
  "language_info": {
   "codemirror_mode": {
    "name": "ipython",
    "version": 3
   },
   "file_extension": ".py",
   "mimetype": "text/x-python",
   "name": "python",
   "nbconvert_exporter": "python",
   "pygments_lexer": "ipython3",
   "version": "3.11.7"
  }
 },
 "nbformat": 4,
 "nbformat_minor": 2
}
