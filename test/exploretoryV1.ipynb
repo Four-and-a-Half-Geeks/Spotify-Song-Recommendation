{
 "cells": [
  {
   "cell_type": "markdown",
   "metadata": {},
   "source": [
    "Import Libraries"
   ]
  },
  {
   "cell_type": "code",
   "execution_count": 9,
   "metadata": {},
   "outputs": [
    {
     "name": "stdout",
     "output_type": "stream",
     "text": [
      "All libraries imported successfully.\n"
     ]
    }
   ],
   "source": [
    "import os\n",
    "import pandas as pd\n",
    "import numpy as np\n",
    "import seaborn as sns\n",
    "from dotenv import load_dotenv\n",
    "import spotipy\n",
    "from spotipy.oauth2 import SpotifyClientCredentials\n",
    "import matplotlib.pyplot as plt\n",
    "import random\n",
    "\n",
    "print(\"All libraries imported successfully.\")"
   ]
  },
  {
   "cell_type": "code",
   "execution_count": 13,
   "metadata": {},
   "outputs": [],
   "source": [
    "def load_env():\n",
    "    \"\"\"Load environment variables from a .env file.\"\"\"\n",
    "    env_file_path = '.env'\n",
    "    try:\n",
    "        with open(env_file_path) as f:\n",
    "            for line in f:\n",
    "                # Remove whitespace and skip comments\n",
    "                line = line.strip()\n",
    "                if line and not line.startswith('#'):\n",
    "                    key, value = line.split('=', 1)\n",
    "                    os.environ[key.strip()] = value.strip()  # Strip whitespace from both key and value\n",
    "    except FileNotFoundError:\n",
    "        print(f\"Warning: {env_file_path} file not found.\")"
   ]
  },
  {
   "cell_type": "code",
   "execution_count": 14,
   "metadata": {},
   "outputs": [
    {
     "name": "stdout",
     "output_type": "stream",
     "text": [
      "Warning: .env file not found.\n"
     ]
    }
   ],
   "source": [
    "load_env()"
   ]
  },
  {
   "cell_type": "code",
   "execution_count": 5,
   "metadata": {},
   "outputs": [
    {
     "data": {
      "text/plain": [
       "False"
      ]
     },
     "execution_count": 5,
     "metadata": {},
     "output_type": "execute_result"
    }
   ],
   "source": [
    "# load the .env file variables\n",
    "load_dotenv(\"../Spotify-Song-Recommendation/.env\")"
   ]
  },
  {
   "cell_type": "code",
   "execution_count": 3,
   "metadata": {},
   "outputs": [],
   "source": [
    "client_id = os.getenv(\"CLIENT_ID\")\n",
    "client_secret = os.environ.get(\"CLIENT_SECRET\")"
   ]
  },
  {
   "cell_type": "code",
   "execution_count": null,
   "metadata": {},
   "outputs": [],
   "source": [
    "print(client_id)"
   ]
  },
  {
   "cell_type": "code",
   "execution_count": null,
   "metadata": {},
   "outputs": [],
   "source": [
    "def connect_to_spotify():\n",
    "    print(\"To connect to the Spotify API, please provide your API credentials.\")\n",
    "    \n",
    "    client_id = input(\"Enter your Spotify Client ID: \").strip()\n",
    "    client_secret = input(\"Enter your Spotify Client Secret: \").strip()\n",
    "    redirect_uri = input(\"Enter your Redirect URI (as configured in the Spotify Developer Dashboard): \").strip()\n",
    "    \n",
    "    # Set up Spotify OAuth\n",
    "    sp = spotipy.Spotify(auth_manager=SpotifyOAuth(\n",
    "        client_id=client_id,\n",
    "        client_secret=client_secret,\n",
    "        redirect_uri=redirect_uri,\n",
    "        scope=\"user-library-read\"  # Adjust scopes as needed\n",
    "    ))\n",
    "    \n",
    "    try:\n",
    "        # Check connection by fetching user's library\n",
    "        results = sp.current_user_saved_tracks(limit=1)\n",
    "        print(\"Successfully connected to Spotify API!\")\n",
    "        print(f\"First saved track: {results['items'][0]['track']['name']} by {results['items'][0]['track']['artists'][0]['name']}\")\n",
    "    except spotipy.exceptions.SpotifyException as e:\n",
    "        print(\"Failed to connect to Spotify API. Please check your credentials.\")\n",
    "        print(\"Error:\", e)\n",
    "\n",
    "connect_to_spotify()"
   ]
  },
  {
   "cell_type": "code",
   "execution_count": null,
   "metadata": {},
   "outputs": [],
   "source": [
    "def get_audio_features(sp, track_ids):\n",
    "    # Get audio features for each track\n",
    "    audio_features = sp.audio_features(track_ids)\n",
    "    return audio_features\n",
    "\n",
    "def recommend_tracks_by_mood(sp, mood, track_limit=5):\n",
    "    # Define mood-based criteria for filtering songs\n",
    "    mood_criteria = {\n",
    "        'happy': {'valence': (0.7, 1.0), 'danceability': (0.6, 1.0), 'energy': (0.6, 1.0)},\n",
    "        'sad': {'valence': (0.0, 0.4), 'energy': (0.0, 0.4)},\n",
    "        'relaxed': {'valence': (0.4, 0.7), 'energy': (0.3, 0.6), 'acousticness': (0.5, 1.0)},\n",
    "        'energetic': {'energy': (0.7, 1.0), 'danceability': (0.7, 1.0), 'tempo': (120, 180)}\n",
    "    }\n",
    "\n",
    "    if mood not in mood_criteria:\n",
    "        print(\"Mood not recognized. Please choose from 'happy', 'sad', 'relaxed', or 'energetic'.\")\n",
    "        return\n",
    "\n",
    "    # Fetch user's saved tracks and filter by mood\n",
    "    saved_tracks = sp.current_user_saved_tracks(limit=50)  # Fetch up to 50 saved tracks\n",
    "    track_ids = [item['track']['id'] for item in saved_tracks['items']]\n",
    "    \n",
    "    # Get audio features for these tracks\n",
    "    audio_features = get_audio_features(sp, track_ids)\n",
    "\n",
    "    # Filter tracks based on mood criteria\n",
    "    matching_tracks = []\n",
    "    criteria = mood_criteria[mood]\n",
    "    \n",
    "    for feature, track in zip(audio_features, saved_tracks['items']):\n",
    "        if feature:  # Ensure the audio features exist for the track\n",
    "            match = all(criteria[key][0] <= feature[key] <= criteria[key][1] for key in criteria)\n",
    "            if match:\n",
    "                matching_tracks.append(track['track'])\n",
    "    \n",
    "    # Randomly sample and display the matching tracks\n",
    "    if matching_tracks:\n",
    "        print(f\"\\nTracks matching the '{mood}' mood:\")\n",
    "        for track in random.sample(matching_tracks, min(track_limit, len(matching_tracks))):\n",
    "            print(f\"- {track['name']} by {track['artists'][0]['name']}\")\n",
    "    else:\n",
    "        print(f\"No tracks found for the '{mood}' mood in your saved tracks.\")\n",
    "\n",
    "# Connect to Spotify\n",
    "sp = connect_to_spotify()\n",
    "\n",
    "# Prompt user for mood selection and recommend tracks\n",
    "user_mood = input(\"Enter your mood (options: 'happy', 'sad', 'relaxed', 'energetic'): \").strip().lower()\n",
    "recommend_tracks_by_mood(sp, user_mood)"
   ]
  }
 ],
 "metadata": {
  "kernelspec": {
   "display_name": "myvenv",
   "language": "python",
   "name": "python3"
  },
  "language_info": {
   "codemirror_mode": {
    "name": "ipython",
    "version": 3
   },
   "file_extension": ".py",
   "mimetype": "text/x-python",
   "name": "python",
   "nbconvert_exporter": "python",
   "pygments_lexer": "ipython3",
   "version": "3.11.7"
  }
 },
 "nbformat": 4,
 "nbformat_minor": 2
}
