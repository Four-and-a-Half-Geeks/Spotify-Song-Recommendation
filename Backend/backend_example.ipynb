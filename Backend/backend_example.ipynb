{
 "cells": [
  {
   "cell_type": "markdown",
   "metadata": {},
   "source": [
    "## This is an example on how to use the Backend class to greet the user and recommend songs to them."
   ]
  },
  {
   "cell_type": "markdown",
   "metadata": {},
   "source": [
    "First import the class"
   ]
  },
  {
   "cell_type": "code",
   "execution_count": 2,
   "metadata": {},
   "outputs": [],
   "source": [
    "\n",
    "from Backend import Backend"
   ]
  },
  {
   "cell_type": "markdown",
   "metadata": {},
   "source": [
    "Then instantiate the class:\n",
    "\n",
    "    - You need the keys for SpotifyAPI and LLM model (huggingface at the moment)"
   ]
  },
  {
   "cell_type": "code",
   "execution_count": 3,
   "metadata": {},
   "outputs": [],
   "source": [
    "\n",
    "from dotenv import load_dotenv\n",
    "import os\n",
    "load_dotenv(\"../.env\")\n",
    "client_id = os.getenv(\"SPOTIFY_CLIENT_ID\")\n",
    "client_secret = os.getenv(\"SPOTIFY_CLIENT_SECRET\")\n",
    "openai_key = os.getenv(\"OPENAI_KEY\")\n",
    "\n",
    "backend = Backend(client_id, client_secret, openai_key)"
   ]
  },
  {
   "cell_type": "markdown",
   "metadata": {},
   "source": [
    "## Great! now you are ready to start using the functions!"
   ]
  },
  {
   "cell_type": "markdown",
   "metadata": {},
   "source": [
    "Please ignore the warnings. They are harmless"
   ]
  },
  {
   "cell_type": "markdown",
   "metadata": {},
   "source": [
    "## How to greet the user:\n",
    "    - You need the username:"
   ]
  },
  {
   "cell_type": "code",
   "execution_count": 14,
   "metadata": {},
   "outputs": [],
   "source": [
    "\n",
    "username : str = 'Johnny'\n",
    "greeting = backend.get_user_greeting(username)\n",
    "\n"
   ]
  },
  {
   "cell_type": "code",
   "execution_count": 15,
   "metadata": {},
   "outputs": [
    {
     "name": "stdout",
     "output_type": "stream",
     "text": [
      "Hello Johnny, I'm thrilled to assist you in discovering new melodies today. Let's strike the right chord together!\n"
     ]
    }
   ],
   "source": [
    "print(greeting)"
   ]
  },
  {
   "cell_type": "markdown",
   "metadata": {},
   "source": [
    "The model is able to give different greetings for different users:"
   ]
  },
  {
   "cell_type": "code",
   "execution_count": 13,
   "metadata": {},
   "outputs": [
    {
     "name": "stdout",
     "output_type": "stream",
     "text": [
      "Hello Falco, welcome back! Let's discover some new melodies that'll make your day harmonious.\n",
      "Hello Jody, welcome back! Let's dive into the rhythm of your day with some handpicked tunes just for you.\n"
     ]
    }
   ],
   "source": [
    "username : str = 'Falco'\n",
    "greeting = backend.get_user_greeting(username)\n",
    "print(greeting)\n",
    "\n",
    "username : str = 'Jody'\n",
    "greeting = backend.get_user_greeting(username)\n",
    "print(greeting)"
   ]
  },
  {
   "cell_type": "markdown",
   "metadata": {},
   "source": [
    "## How to recommend music to the user:\n",
    "    - You need the information provided by the user: genres, artists, songs, mood\n",
    "    - Please note that the information should be provided inside a list, except for mood"
   ]
  },
  {
   "cell_type": "code",
   "execution_count": 3,
   "metadata": {},
   "outputs": [
    {
     "name": "stdout",
     "output_type": "stream",
     "text": [
      "Recommendation:  [('Fur Alina', 'Arvo Pärt'), ('II. Largo from Concerto for Harpsichord, Strings & Basso continuo No. 5 in F minor, BWV 1056', 'Johann Sebastian Bach'), ('Etude 1', 'Nico Muhly'), ('String Quintet in E Major, Op. 11 No. 5, G. 275: III. Minuetto - Trio', 'Luigi Boccherini'), ('The Flower Duet (From \"Lakmé\")', 'Léo Delibes'), ('Escualo (Arr. Maganuco & Jofre)', 'Ann Hobson Pilot'), ('Bizet: Carmen, Act 1: \"L\\'amour est un oiseau rebelle\" (Habanera) [Carmen, Chorus]', 'Georges Bizet'), ('Cloud Three', 'Henrik Schwarz'), ('The Ecstasy Of Gold - 2004 Remaster', 'Ennio Morricone'), ('Verdi: La traviata, Act 1: Prelude', 'Giuseppe Verdi'), ('Ionisation', 'Edgard Varèse'), ('Concerning Hobbits', 'Howard Shore'), ('Messiah, HWV 56, Part II: No. 44, \"Hallelujah!\"', 'George Frideric Handel'), ('Carmen Suite No. 1: 5. Les toréadors', 'Georges Bizet'), ('Piano Trio, Four Combinations of Three Instruments, HC. 383: II. Largo', 'Henry Cowell'), ('Terpsichore*: a. Bransle Gay 1 b. Bransle de Montirande', 'Michael Praetorius'), ('Canon in D Major, P. 37', 'Johann Pachelbel'), ('The Poem of Spring', 'Various Artists'), ('Touch Her Soft Lips and Part (From \"Henry V\")', 'William Walton'), ('Bizet: Carmen, WD 31: Prélude', 'Georges Bizet')]\n"
     ]
    }
   ],
   "source": [
    "\n",
    "genres = ['classical']\n",
    "artists = []\n",
    "songs = []\n",
    "mood = 'sad'\n",
    "#print(backend.sp.get_track_recommendations(genres, artists, songs, mood))\n",
    "recommendation = backend.get_user_recommendation(genres, artists, songs, mood)\n",
    "\n"
   ]
  },
  {
   "cell_type": "code",
   "execution_count": 4,
   "metadata": {},
   "outputs": [
    {
     "name": "stdout",
     "output_type": "stream",
     "text": [
      "Dear User, I have curated a personalized list of songs that I believe you will enjoy listening to.\n",
      "\n",
      "Fur Alina by Arvo Pärt\n",
      "II. Largo from Concerto for Harpsichord, Strings & Basso continuo No. 5 in F minor, BWV 1056 by Johann Sebastian Bach\n",
      "Etude 1 by Nico Muhly\n",
      "String Quintet in E Major, Op. 11 No. 5, G. 275: III. Minuetto - Trio by Luigi Boccherini\n",
      "The Flower Duet (From \"Lakmé\") by Léo Delibes\n",
      "Escualo (Arr. Maganuco & Jofre) by Ann Hobson Pilot\n",
      "Bizet: Carmen, Act 1: \"L'amour est un oiseau rebelle\" (Habanera) [Carmen, Chorus] by Georges Bizet\n",
      "Cloud Three by Henrik Schwarz\n",
      "The Ecstasy Of Gold - 2004 Remaster by Ennio Morricone\n",
      "Verdi: La traviata, Act 1: Prelude by Giuseppe Verdi\n",
      "Ionisation by Edgard Varèse\n",
      "Concerning Hobbits by Howard Shore\n",
      "Messiah, HWV 56, Part II: No. 44, \"Hallelujah!\" by George Frideric Handel\n",
      "Carmen Suite No. 1: 5. Les toréadors by Georges Bizet\n",
      "Piano Trio, Four Combinations of Three Instruments, HC. 383: II. Largo by Henry Cowell\n",
      "Terpsichore*: a. Bransle Gay 1 b. Bransle de Montirande by Michael Praetorius\n",
      "Canon in D Major, P. 37 by Johann Pachelbel\n",
      "The Poem of Spring by Various Artists\n",
      "Touch Her Soft Lips and Part (From \"Henry V\") by William Walton\n",
      "Bizet: Carmen, WD 31: Prélude by Georges Bizet\n"
     ]
    }
   ],
   "source": [
    "print(recommendation)"
   ]
  },
  {
   "cell_type": "markdown",
   "metadata": {},
   "source": [
    "## The model can translate user input to values for a Spotify Recommendation"
   ]
  },
  {
   "cell_type": "markdown",
   "metadata": {},
   "source": [
    "As this feature is not yet implemented in the Backend class, the example will use the LLM class instead"
   ]
  },
  {
   "cell_type": "code",
   "execution_count": 5,
   "metadata": {},
   "outputs": [],
   "source": [
    "from LLM import LLM\n",
    "llm = LLM(openai_key)\n",
    "\n",
    "music_description = 'Upbeat music to dance along'\n",
    "spotify_data = llm.get_spotify_recommendation_data(user_input=music_description)"
   ]
  },
  {
   "cell_type": "code",
   "execution_count": 6,
   "metadata": {},
   "outputs": [
    {
     "name": "stdout",
     "output_type": "stream",
     "text": [
      "{'acousticness': 0.3, 'danceability': 0.8, 'energy': 0.8, 'instrumentalness': 0.2, 'liveness': 0.4, 'valence': 0.7, 'tempo': 120.0, 'speechiness': 0.2}\n"
     ]
    }
   ],
   "source": [
    "print(spotify_data)"
   ]
  },
  {
   "cell_type": "markdown",
   "metadata": {},
   "source": [
    "Other examples"
   ]
  },
  {
   "cell_type": "code",
   "execution_count": 7,
   "metadata": {},
   "outputs": [
    {
     "name": "stdout",
     "output_type": "stream",
     "text": [
      "Sad music for when you are feeling down  :  {'acousticness': 0.5, 'danceability': 0.3, 'energy': 0.2, 'instrumentalness': 0.6, 'liveness': 0.1, 'valence': 0.1, 'tempo': 70.0, 'speechiness': 0.05}\n",
      "Instrumental music to help me relax  :  {'acousticness': 0.7, 'danceability': 0.3, 'energy': 0.2, 'instrumentalness': 0.9, 'liveness': 0.1, 'valence': 0.2, 'tempo': 60.0, 'speechiness': 0.1}\n",
      "Some rap music with cool lyrics  :  {'acousticness': 0.2, 'danceability': 0.7, 'energy': 0.7, 'instrumentalness': 0.1, 'liveness': 0.3, 'valence': 0.5, 'tempo': 120.0, 'speechiness': 0.8}\n"
     ]
    }
   ],
   "source": [
    "#Other examples:\n",
    "music_description = 'Sad music for when you are feeling down'\n",
    "spotify_data = llm.get_spotify_recommendation_data(user_input=music_description)\n",
    "print(music_description, ' : ', spotify_data)\n",
    "\n",
    "music_description = 'Instrumental music to help me relax'\n",
    "spotify_data = llm.get_spotify_recommendation_data(user_input=music_description)\n",
    "print(music_description, ' : ', spotify_data)\n",
    "\n",
    "music_description = 'Some rap music with cool lyrics'\n",
    "spotify_data = llm.get_spotify_recommendation_data(user_input=music_description)\n",
    "print(music_description, ' : ', spotify_data)"
   ]
  }
 ],
 "metadata": {
  "kernelspec": {
   "display_name": "spotify_llm_env",
   "language": "python",
   "name": "python3"
  },
  "language_info": {
   "codemirror_mode": {
    "name": "ipython",
    "version": 3
   },
   "file_extension": ".py",
   "mimetype": "text/x-python",
   "name": "python",
   "nbconvert_exporter": "python",
   "pygments_lexer": "ipython3",
   "version": "3.12.4"
  }
 },
 "nbformat": 4,
 "nbformat_minor": 2
}
