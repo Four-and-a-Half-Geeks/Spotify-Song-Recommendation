{
 "cells": [
  {
   "cell_type": "markdown",
   "metadata": {},
   "source": [
    "## This is an example on how to use the Backend class to greet the user and recommend songs to them."
   ]
  },
  {
   "cell_type": "markdown",
   "metadata": {},
   "source": [
    "First import the class"
   ]
  },
  {
   "cell_type": "code",
   "execution_count": 1,
   "metadata": {},
   "outputs": [],
   "source": [
    "\n",
    "from Backend import Backend"
   ]
  },
  {
   "cell_type": "markdown",
   "metadata": {},
   "source": [
    "Then instantiate the class:\n",
    "\n",
    "    - You need the keys for SpotifyAPI and LLM model (huggingface at the moment)"
   ]
  },
  {
   "cell_type": "code",
   "execution_count": null,
   "metadata": {},
   "outputs": [],
   "source": [
    "\n",
    "from dotenv import load_dotenv\n",
    "import os\n",
    "load_dotenv(\"../.env\")\n",
    "client_id = os.getenv(\"SPOTIFY_CLIENT_ID\")\n",
    "client_secret = os.getenv(\"SPOTIFY_CLIENT_SECRET\")\n",
    "huggingface_key = os.getenv(\"HUGGING_FACE_TOKEN\")\n",
    "\n",
    "backend = Backend(client_id, client_secret, huggingface_key)"
   ]
  },
  {
   "cell_type": "markdown",
   "metadata": {},
   "source": [
    "## Great! now you are ready to start using the functions!"
   ]
  },
  {
   "cell_type": "markdown",
   "metadata": {},
   "source": [
    "Please ignore the warnings. They are harmless"
   ]
  },
  {
   "cell_type": "markdown",
   "metadata": {},
   "source": [
    "## How to greet the user:\n",
    "    - You need the username:"
   ]
  },
  {
   "cell_type": "code",
   "execution_count": null,
   "metadata": {},
   "outputs": [],
   "source": [
    "\n",
    "username : str = 'Johnny'\n",
    "greeting = backend.get_user_greeting(username)\n",
    "\n"
   ]
  },
  {
   "cell_type": "code",
   "execution_count": null,
   "metadata": {},
   "outputs": [
    {
     "name": "stdout",
     "output_type": "stream",
     "text": [
      "\n",
      "\n",
      "Greetings, Johnny! I'm here to suggest some tunes that might pique your interest. Let's embark on this musical journey together!\n"
     ]
    }
   ],
   "source": [
    "print(greeting)"
   ]
  },
  {
   "cell_type": "markdown",
   "metadata": {},
   "source": [
    "## How to recommend music to the user:\n",
    "    - You need the information provided by the user: genres, artists, songs, mood\n",
    "    - Please note that the information should be provided inside a list, except for mood"
   ]
  },
  {
   "cell_type": "code",
   "execution_count": null,
   "metadata": {},
   "outputs": [
    {
     "name": "stdout",
     "output_type": "stream",
     "text": [
      "Recommendation:  [('Fur Alina', 'Arvo Pärt'), ('Requiem in D Minor, K .626: IV. Offertorium: 1. Domine Jesu Christe', 'Wolfgang Amadeus Mozart'), ('Etude 1', 'Nico Muhly'), ('Escualo (Arr. Maganuco & Jofre)', 'Ann Hobson Pilot'), ('Bizet: Carmen, Act 1: \"L\\'amour est un oiseau rebelle\" (Habanera) [Carmen, Chorus]', 'Georges Bizet'), ('The Flower Duet (From \"Lakmé\")', 'Léo Delibes'), ('Concerto For 4 Violins In B Minor, Op. 3, No. 10, RV 580 : III. Allegro', 'Antonio Vivaldi'), ('Die Zauberflöte / Act 2: \"Der Hölle Rache kocht in meinem Herze\"', 'Wolfgang Amadeus Mozart'), ('Cloud Three', 'Henrik Schwarz'), ('Requiem In D Minor, K. 626: Offertory: I. Domine Jesu Christe', 'Slovak Philharmonic'), ('Verdi: La traviata, Act 1: Prelude', 'Giuseppe Verdi'), ('String Quintet in E Major, Op. 11 No. 5, G. 275: III. Minuetto - Trio', 'Luigi Boccherini'), ('Concerto For 4 Violins In B Minor, Op. 3, No. 10, RV 580 : I. Allegro', 'Antonio Vivaldi'), ('Der Stein der Weisen, Act I: Recitative. Du bist erhört! - Aria. In finstrer Höhlenkluft', 'Wolfgang Amadeus Mozart'), ('Concerto for Two Violins in D Minor, BWV 1043: I. Vivace', 'Johann Sebastian Bach'), ('The Ecstasy Of Gold - 2004 Remaster', 'Ennio Morricone'), ('Concerning Hobbits', 'Howard Shore'), ('Ionisation', 'Edgard Varèse'), ('Terpsichore*: a. Bransle Gay 1 b. Bransle de Montirande', 'Michael Praetorius'), ('Requiem, K. 626: IV. Offertorium: a. Domine Jesu (Orch. Süssmayr, Beyer) - Live', 'Wolfgang Amadeus Mozart')]\n"
     ]
    }
   ],
   "source": [
    "\n",
    "genres = ['classical']\n",
    "artists = ['Mozart']\n",
    "songs = ['Symphony No. 40 in G minor']\n",
    "mood = 'sad'\n",
    "#print(backend.sp.get_track_recommendations(genres, artists, songs, mood))\n",
    "recommendation = backend.get_user_recommendation(genres, artists, songs, mood)\n",
    "\n"
   ]
  },
  {
   "cell_type": "code",
   "execution_count": null,
   "metadata": {},
   "outputs": [
    {
     "name": "stdout",
     "output_type": "stream",
     "text": [
      "\n",
      "\"Hello Johnny, I'm excited to share with you a curated list of songs that I believe you'll enjoy. I'm looking forward to hearing your thoughts on this selection.\"\n",
      "\n",
      "Fur Alina by Arvo Pärt\n",
      "Requiem in D Minor, K .626: IV. Offertorium: 1. Domine Jesu Christe by Wolfgang Amadeus Mozart\n",
      "Etude 1 by Nico Muhly\n",
      "Escualo (Arr. Maganuco & Jofre) by Ann Hobson Pilot\n",
      "Bizet: Carmen, Act 1: \"L'amour est un oiseau rebelle\" (Habanera) [Carmen, Chorus] by Georges Bizet\n",
      "The Flower Duet (From \"Lakmé\") by Léo Delibes\n",
      "Concerto For 4 Violins In B Minor, Op. 3, No. 10, RV 580 : III. Allegro by Antonio Vivaldi\n",
      "Die Zauberflöte / Act 2: \"Der Hölle Rache kocht in meinem Herze\" by Wolfgang Amadeus Mozart\n",
      "Cloud Three by Henrik Schwarz\n",
      "Requiem In D Minor, K. 626: Offertory: I. Domine Jesu Christe by Slovak Philharmonic\n",
      "Verdi: La traviata, Act 1: Prelude by Giuseppe Verdi\n",
      "String Quintet in E Major, Op. 11 No. 5, G. 275: III. Minuetto - Trio by Luigi Boccherini\n",
      "Concerto For 4 Violins In B Minor, Op. 3, No. 10, RV 580 : I. Allegro by Antonio Vivaldi\n",
      "Der Stein der Weisen, Act I: Recitative. Du bist erhört! - Aria. In finstrer Höhlenkluft by Wolfgang Amadeus Mozart\n",
      "Concerto for Two Violins in D Minor, BWV 1043: I. Vivace by Johann Sebastian Bach\n",
      "The Ecstasy Of Gold - 2004 Remaster by Ennio Morricone\n",
      "Concerning Hobbits by Howard Shore\n",
      "Ionisation by Edgard Varèse\n",
      "Terpsichore*: a. Bransle Gay 1 b. Bransle de Montirande by Michael Praetorius\n",
      "Requiem, K. 626: IV. Offertorium: a. Domine Jesu (Orch. Süssmayr, Beyer) - Live by Wolfgang Amadeus Mozart\n"
     ]
    }
   ],
   "source": [
    "print(recommendation)"
   ]
  }
 ],
 "metadata": {
  "kernelspec": {
   "display_name": "spotify_llm_env",
   "language": "python",
   "name": "python3"
  },
  "language_info": {
   "codemirror_mode": {
    "name": "ipython",
    "version": 3
   },
   "file_extension": ".py",
   "mimetype": "text/x-python",
   "name": "python",
   "nbconvert_exporter": "python",
   "pygments_lexer": "ipython3",
   "version": "3.12.4"
  }
 },
 "nbformat": 4,
 "nbformat_minor": 2
}
