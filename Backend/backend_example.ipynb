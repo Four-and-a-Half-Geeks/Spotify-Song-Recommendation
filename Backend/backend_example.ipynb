{
 "cells": [
  {
   "cell_type": "markdown",
   "metadata": {},
   "source": [
    "## This is an example on how to use the Backend class to greet the user and recommend songs to them."
   ]
  },
  {
   "cell_type": "code",
   "execution_count": 1,
   "metadata": {},
   "outputs": [],
   "source": [
    "#First import the class\n",
    "from Backend import Backend"
   ]
  },
  {
   "cell_type": "code",
   "execution_count": 2,
   "metadata": {},
   "outputs": [],
   "source": [
    "#Then instantiate the class:\n",
    "    #You need the keys for SpotifyAPI and LLM model (huggingface at the moment)\n",
    "from dotenv import load_dotenv\n",
    "import os\n",
    "load_dotenv(\"../.env\")\n",
    "client_id = os.getenv(\"SPOTIFY_CLIENT_ID\")\n",
    "client_secret = os.getenv(\"SPOTIFY_CLIENT_SECRET\")\n",
    "huggingface_key = os.getenv(\"HUGGING_FACE_TOKEN\")\n",
    "\n",
    "backend = Backend(client_id, client_secret, huggingface_key)"
   ]
  },
  {
   "cell_type": "markdown",
   "metadata": {},
   "source": [
    "## Great! now you are ready to start using the functions!"
   ]
  },
  {
   "cell_type": "markdown",
   "metadata": {},
   "source": [
    "Please ignore the warnings. They are harmless"
   ]
  },
  {
   "cell_type": "code",
   "execution_count": 3,
   "metadata": {},
   "outputs": [
    {
     "name": "stderr",
     "output_type": "stream",
     "text": [
      "c:\\Users\\JaSON\\Desktop\\Python Projects\\Final Project\\Spotify-Song-Recommendation\\Backend\\LLM.py:65: LangChainDeprecationWarning: The class `HuggingFaceHub` was deprecated in LangChain 0.0.21 and will be removed in 1.0. An updated version of the class exists in the :class:`~langchain-huggingface package and should be used instead. To use it run `pip install -U :class:`~langchain-huggingface` and import as `from :class:`~langchain_huggingface import HuggingFaceEndpoint``.\n",
      "  llm = HuggingFaceHub(\n",
      "c:\\Users\\JaSON\\Desktop\\Python Projects\\Final Project\\Spotify-Song-Recommendation\\Backend\\LLM.py:70: LangChainDeprecationWarning: The class `LLMChain` was deprecated in LangChain 0.1.17 and will be removed in 1.0. Use :meth:`~RunnableSequence, e.g., `prompt | llm`` instead.\n",
      "  llm_chain = LLMChain(llm= llm, prompt= prompt_template)\n",
      "c:\\Users\\JaSON\\Desktop\\Python Projects\\Final Project\\Spotify-Song-Recommendation\\Backend\\LLM.py:71: LangChainDeprecationWarning: The method `Chain.run` was deprecated in langchain 0.1.0 and will be removed in 1.0. Use :meth:`~invoke` instead.\n",
      "  response = llm_chain.run(prompt)\n"
     ]
    }
   ],
   "source": [
    "#How to greet the user:\n",
    "    #You need the username:\n",
    "username : str = 'Johnny'\n",
    "greeting = backend.get_user_greeting(username)\n",
    "\n"
   ]
  },
  {
   "cell_type": "code",
   "execution_count": 4,
   "metadata": {},
   "outputs": [
    {
     "name": "stdout",
     "output_type": "stream",
     "text": [
      "\n",
      "\n",
      "Greetings, Johnny! I'm here to suggest some tunes that might pique your interest. Let's embark on this musical journey together!\n"
     ]
    }
   ],
   "source": [
    "print(greeting)"
   ]
  },
  {
   "cell_type": "code",
   "execution_count": 5,
   "metadata": {},
   "outputs": [
    {
     "name": "stdout",
     "output_type": "stream",
     "text": [
      "Recommendation:  [('Die Zauberflöte / Act 2: \"Der Hölle Rache kocht in meinem Herze\"', 'Wolfgang Amadeus Mozart'), ('Fur Alina', 'Arvo Pärt'), ('Etude 1', 'Nico Muhly'), ('Concerto For 4 Violins In B Minor, Op. 3, No. 10, RV 580 : III. Allegro', 'Antonio Vivaldi'), ('Escualo (Arr. Maganuco & Jofre)', 'Ann Hobson Pilot'), ('String Quintet in E Major, Op. 11 No. 5, G. 275: III. Minuetto - Trio', 'Luigi Boccherini'), ('The Flower Duet (From \"Lakmé\")', 'Léo Delibes'), ('Bizet: Carmen, Act 1: \"L\\'amour est un oiseau rebelle\" (Habanera) [Carmen, Chorus]', 'Georges Bizet'), ('Verdi: La traviata, Act 1: Prelude', 'Giuseppe Verdi'), ('Requiem in D Minor, K .626: IV. Offertorium: 1. Domine Jesu Christe', 'Wolfgang Amadeus Mozart'), ('Cloud Three', 'Henrik Schwarz'), ('Concerto For 4 Violins In B Minor, Op. 3, No. 10, RV 580 : I. Allegro', 'Antonio Vivaldi'), ('Concerto for Two Violins in D Minor, BWV 1043: I. Vivace', 'Johann Sebastian Bach'), ('Ionisation', 'Edgard Varèse'), ('Requiem In D Minor, K. 626: Offertory: I. Domine Jesu Christe', 'Slovak Philharmonic'), ('Der Stein der Weisen, Act I: Recitative. Du bist erhört! - Aria. In finstrer Höhlenkluft', 'Wolfgang Amadeus Mozart'), ('Concerto For 2 Keyboards In C Minor, BWV 1062: I. - Allegro', 'Cologne Chamber Orchestra'), ('Concerto For 4 Violins In D Major, Op. 3, No. 1, RV 549: I. Allegro', 'Antonio Vivaldi'), ('The Ecstasy Of Gold - 2004 Remaster', 'Ennio Morricone'), ('Violin Concerto No. 1 in A minor, BWV 1041: I. (Allegro moderato)', 'Johann Sebastian Bach')]\n"
     ]
    }
   ],
   "source": [
    "#How to recommend music to the user:\n",
    "    #You need the information provided by the user: genres, artists, songs, mood\n",
    "    #Please note that the information should be provided inside a list, except for mood\n",
    "genres = ['classical']\n",
    "artists = ['Mozart']\n",
    "songs = ['Symphony No. 40 in G minor']\n",
    "mood = 'sad'\n",
    "#print(backend.sp.get_track_recommendations(genres, artists, songs, mood))\n",
    "recommendation = backend.get_user_recommendation(genres, artists, songs, mood)\n",
    "\n"
   ]
  },
  {
   "cell_type": "code",
   "execution_count": 6,
   "metadata": {},
   "outputs": [
    {
     "name": "stdout",
     "output_type": "stream",
     "text": [
      "\n",
      "\"Hello Johnny, I'm excited to share with you a curated list of songs that I believe you'll enjoy. I'm looking forward to hearing your thoughts on this selection.\": \n",
      "\n",
      "Die Zauberflöte / Act 2: \"Der Hölle Rache kocht in meinem Herze\" by Wolfgang Amadeus Mozart\n",
      "Fur Alina by Arvo Pärt\n",
      "Etude 1 by Nico Muhly\n",
      "Concerto For 4 Violins In B Minor, Op. 3, No. 10, RV 580 : III. Allegro by Antonio Vivaldi\n",
      "Escualo (Arr. Maganuco & Jofre) by Ann Hobson Pilot\n",
      "String Quintet in E Major, Op. 11 No. 5, G. 275: III. Minuetto - Trio by Luigi Boccherini\n",
      "The Flower Duet (From \"Lakmé\") by Léo Delibes\n",
      "Bizet: Carmen, Act 1: \"L'amour est un oiseau rebelle\" (Habanera) [Carmen, Chorus] by Georges Bizet\n",
      "Verdi: La traviata, Act 1: Prelude by Giuseppe Verdi\n",
      "Requiem in D Minor, K .626: IV. Offertorium: 1. Domine Jesu Christe by Wolfgang Amadeus Mozart\n",
      "Cloud Three by Henrik Schwarz\n",
      "Concerto For 4 Violins In B Minor, Op. 3, No. 10, RV 580 : I. Allegro by Antonio Vivaldi\n",
      "Concerto for Two Violins in D Minor, BWV 1043: I. Vivace by Johann Sebastian Bach\n",
      "Ionisation by Edgard Varèse\n",
      "Requiem In D Minor, K. 626: Offertory: I. Domine Jesu Christe by Slovak Philharmonic\n",
      "Der Stein der Weisen, Act I: Recitative. Du bist erhört! - Aria. In finstrer Höhlenkluft by Wolfgang Amadeus Mozart\n",
      "Concerto For 2 Keyboards In C Minor, BWV 1062: I. - Allegro by Cologne Chamber Orchestra\n",
      "Concerto For 4 Violins In D Major, Op. 3, No. 1, RV 549: I. Allegro by Antonio Vivaldi\n",
      "The Ecstasy Of Gold - 2004 Remaster by Ennio Morricone\n",
      "Violin Concerto No. 1 in A minor, BWV 1041: I. (Allegro moderato) by Johann Sebastian Bach\n"
     ]
    }
   ],
   "source": [
    "print(recommendation)"
   ]
  }
 ],
 "metadata": {
  "kernelspec": {
   "display_name": "spotify_llm_env",
   "language": "python",
   "name": "python3"
  },
  "language_info": {
   "codemirror_mode": {
    "name": "ipython",
    "version": 3
   },
   "file_extension": ".py",
   "mimetype": "text/x-python",
   "name": "python",
   "nbconvert_exporter": "python",
   "pygments_lexer": "ipython3",
   "version": "3.12.4"
  }
 },
 "nbformat": 4,
 "nbformat_minor": 2
}
