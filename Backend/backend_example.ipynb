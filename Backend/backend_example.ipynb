{
 "cells": [
  {
   "cell_type": "markdown",
   "metadata": {},
   "source": [
    "## This is an example on how to use the Backend class to greet the user and recommend songs to them."
   ]
  },
  {
   "cell_type": "markdown",
   "metadata": {},
   "source": [
    "First import the class"
   ]
  },
  {
   "cell_type": "code",
   "execution_count": 2,
   "metadata": {},
   "outputs": [],
   "source": [
    "\n",
    "from Backend import Backend"
   ]
  },
  {
   "cell_type": "markdown",
   "metadata": {},
   "source": [
    "Then instantiate the class:\n",
    "\n",
    "    - You need the keys for SpotifyAPI and LLM model (huggingface at the moment)"
   ]
  },
  {
   "cell_type": "code",
   "execution_count": 3,
   "metadata": {},
   "outputs": [],
   "source": [
    "\n",
    "from dotenv import load_dotenv\n",
    "import os\n",
    "load_dotenv(\"../.env\")\n",
    "client_id = os.getenv(\"SPOTIFY_CLIENT_ID\")\n",
    "client_secret = os.getenv(\"SPOTIFY_CLIENT_SECRET\")\n",
    "openai_key = os.getenv(\"OPENAI_KEY\")\n",
    "\n",
    "backend = Backend(client_id, client_secret, openai_key)"
   ]
  },
  {
   "cell_type": "markdown",
   "metadata": {},
   "source": [
    "## Great! now you are ready to start using the functions!"
   ]
  },
  {
   "cell_type": "markdown",
   "metadata": {},
   "source": [
    "Please ignore the warnings. They are harmless"
   ]
  },
  {
   "cell_type": "markdown",
   "metadata": {},
   "source": [
    "## How to greet the user:\n",
    "    - You need the username:"
   ]
  },
  {
   "cell_type": "code",
   "execution_count": 14,
   "metadata": {},
   "outputs": [],
   "source": [
    "\n",
    "username : str = 'Johnny'\n",
    "greeting = backend.get_user_greeting(username)\n",
    "\n"
   ]
  },
  {
   "cell_type": "code",
   "execution_count": 15,
   "metadata": {},
   "outputs": [
    {
     "name": "stdout",
     "output_type": "stream",
     "text": [
      "Hello Johnny, I'm thrilled to assist you in discovering new melodies today. Let's strike the right chord together!\n"
     ]
    }
   ],
   "source": [
    "print(greeting)"
   ]
  },
  {
   "cell_type": "markdown",
   "metadata": {},
   "source": [
    "The model is able to give different greetings for different users:"
   ]
  },
  {
   "cell_type": "code",
   "execution_count": 13,
   "metadata": {},
   "outputs": [
    {
     "name": "stdout",
     "output_type": "stream",
     "text": [
      "Hello Falco, welcome back! Let's discover some new melodies that'll make your day harmonious.\n",
      "Hello Jody, welcome back! Let's dive into the rhythm of your day with some handpicked tunes just for you.\n"
     ]
    }
   ],
   "source": [
    "username : str = 'Falco'\n",
    "greeting = backend.get_user_greeting(username)\n",
    "print(greeting)\n",
    "\n",
    "username : str = 'Jody'\n",
    "greeting = backend.get_user_greeting(username)\n",
    "print(greeting)"
   ]
  },
  {
   "cell_type": "markdown",
   "metadata": {},
   "source": [
    "## How to recommend music to the user:\n",
    "    - You need the information provided by the user: genres, artists, songs, mood\n",
    "    - Please note that the information should be provided inside a list, except for mood"
   ]
  },
  {
   "cell_type": "code",
   "execution_count": 9,
   "metadata": {},
   "outputs": [
    {
     "name": "stdout",
     "output_type": "stream",
     "text": [
      "Recommendation:  [('Concerto For 4 Violins In B Minor, Op. 3, No. 10, RV 580 : III. Allegro', 'Antonio Vivaldi'), ('String Quintet in E Major, Op. 11 No. 5, G. 275: III. Minuetto - Trio', 'Luigi Boccherini'), ('Fur Alina', 'Arvo Pärt'), ('Concerto for Two Violins in D Minor, BWV 1043: I. Vivace', 'Johann Sebastian Bach'), ('Requiem in D Minor, K .626: IV. Offertorium: 1. Domine Jesu Christe', 'Wolfgang Amadeus Mozart'), ('Concerto For 2 Keyboards In C Minor, BWV 1062: I. - Allegro', 'Cologne Chamber Orchestra'), ('Etude 1', 'Nico Muhly'), ('Concerto For 4 Violins In B Minor, Op. 3, No. 10, RV 580 : I. Allegro', 'Antonio Vivaldi'), ('Escualo (Arr. Maganuco & Jofre)', 'Ann Hobson Pilot'), ('The Flower Duet (From \"Lakmé\")', 'Léo Delibes'), ('Der Stein der Weisen, Act I: Duet. Tralleralara! Tralleralla!', 'Wolfgang Amadeus Mozart'), ('Bizet: Carmen, Act 1: \"L\\'amour est un oiseau rebelle\" (Habanera) [Carmen, Chorus]', 'Georges Bizet'), ('Requiem In D Minor, K. 626: Offertory: I. Domine Jesu Christe', 'Slovak Philharmonic'), ('Concerto Grosso In D Minor, Op. 3, No. 11, Rv 565: I. Allegro', 'Antonio Vivaldi'), ('Cloud Three', 'Henrik Schwarz'), ('String Quintet in E Major, G. 275: III. Menuetto', 'Luigi Boccherini'), ('Die Zauberflöte / Act 2: \"Der Hölle Rache kocht in meinem Herze\"', 'Wolfgang Amadeus Mozart'), ('Violin Concerto No. 1 in A Minor, BWV 1041: I. Allegro moderato', 'Johann Sebastian Bach'), (\"Winter (L'Inverno) Op.8 No.4 F Minor: Allegro\", 'Baroque Festival Orchestra'), ('Concerto For 4 Violins In D Major, Op. 3, No. 1, RV 549: I. Allegro', 'Antonio Vivaldi')]\n"
     ]
    }
   ],
   "source": [
    "\n",
    "genres = ['classical']\n",
    "artists = ['Mozart']\n",
    "songs = ['Symphony No. 40 in G minor']\n",
    "mood = 'sad'\n",
    "#print(backend.sp.get_track_recommendations(genres, artists, songs, mood))\n",
    "recommendation = backend.get_user_recommendation(genres, artists, songs, mood)\n",
    "\n"
   ]
  },
  {
   "cell_type": "code",
   "execution_count": 10,
   "metadata": {},
   "outputs": [
    {
     "name": "stdout",
     "output_type": "stream",
     "text": [
      "Hello Johnny, I have a curated list of songs that I think you might enjoy, would you like me to share them with you?\n",
      "\n",
      "Concerto For 4 Violins In B Minor, Op. 3, No. 10, RV 580 : III. Allegro by Antonio Vivaldi\n",
      "String Quintet in E Major, Op. 11 No. 5, G. 275: III. Minuetto - Trio by Luigi Boccherini\n",
      "Fur Alina by Arvo Pärt\n",
      "Concerto for Two Violins in D Minor, BWV 1043: I. Vivace by Johann Sebastian Bach\n",
      "Requiem in D Minor, K .626: IV. Offertorium: 1. Domine Jesu Christe by Wolfgang Amadeus Mozart\n",
      "Concerto For 2 Keyboards In C Minor, BWV 1062: I. - Allegro by Cologne Chamber Orchestra\n",
      "Etude 1 by Nico Muhly\n",
      "Concerto For 4 Violins In B Minor, Op. 3, No. 10, RV 580 : I. Allegro by Antonio Vivaldi\n",
      "Escualo (Arr. Maganuco & Jofre) by Ann Hobson Pilot\n",
      "The Flower Duet (From \"Lakmé\") by Léo Delibes\n",
      "Der Stein der Weisen, Act I: Duet. Tralleralara! Tralleralla! by Wolfgang Amadeus Mozart\n",
      "Bizet: Carmen, Act 1: \"L'amour est un oiseau rebelle\" (Habanera) [Carmen, Chorus] by Georges Bizet\n",
      "Requiem In D Minor, K. 626: Offertory: I. Domine Jesu Christe by Slovak Philharmonic\n",
      "Concerto Grosso In D Minor, Op. 3, No. 11, Rv 565: I. Allegro by Antonio Vivaldi\n",
      "Cloud Three by Henrik Schwarz\n",
      "String Quintet in E Major, G. 275: III. Menuetto by Luigi Boccherini\n",
      "Die Zauberflöte / Act 2: \"Der Hölle Rache kocht in meinem Herze\" by Wolfgang Amadeus Mozart\n",
      "Violin Concerto No. 1 in A Minor, BWV 1041: I. Allegro moderato by Johann Sebastian Bach\n",
      "Winter (L'Inverno) Op.8 No.4 F Minor: Allegro by Baroque Festival Orchestra\n",
      "Concerto For 4 Violins In D Major, Op. 3, No. 1, RV 549: I. Allegro by Antonio Vivaldi\n"
     ]
    }
   ],
   "source": [
    "print(recommendation)"
   ]
  },
  {
   "cell_type": "markdown",
   "metadata": {},
   "source": [
    "## The model can translate user input to values for a Spotify Recommendation"
   ]
  },
  {
   "cell_type": "markdown",
   "metadata": {},
   "source": [
    "As this feature is not yet implemented in the Backend class, the example will use the LLM class instead"
   ]
  },
  {
   "cell_type": "code",
   "execution_count": 5,
   "metadata": {},
   "outputs": [],
   "source": [
    "from LLM import LLM\n",
    "llm = LLM(openai_key)\n",
    "\n",
    "music_description = 'Upbeat music to dance along'\n",
    "spotify_data = llm.get_spotify_recommendation_data(user_input=music_description)"
   ]
  },
  {
   "cell_type": "code",
   "execution_count": 6,
   "metadata": {},
   "outputs": [
    {
     "name": "stdout",
     "output_type": "stream",
     "text": [
      "{'acousticness': 0.3, 'danceability': 0.8, 'energy': 0.8, 'instrumentalness': 0.2, 'liveness': 0.4, 'valence': 0.7, 'tempo': 120.0, 'speechiness': 0.2}\n"
     ]
    }
   ],
   "source": [
    "print(spotify_data)"
   ]
  },
  {
   "cell_type": "code",
   "execution_count": 7,
   "metadata": {},
   "outputs": [
    {
     "name": "stdout",
     "output_type": "stream",
     "text": [
      "Sad music for when you are feeling down  :  {'acousticness': 0.5, 'danceability': 0.3, 'energy': 0.2, 'instrumentalness': 0.6, 'liveness': 0.1, 'valence': 0.1, 'tempo': 70.0, 'speechiness': 0.05}\n",
      "Instrumental music to help me relax  :  {'acousticness': 0.7, 'danceability': 0.3, 'energy': 0.2, 'instrumentalness': 0.9, 'liveness': 0.1, 'valence': 0.2, 'tempo': 60.0, 'speechiness': 0.1}\n",
      "Some rap music with cool lyrics  :  {'acousticness': 0.2, 'danceability': 0.7, 'energy': 0.7, 'instrumentalness': 0.1, 'liveness': 0.3, 'valence': 0.5, 'tempo': 120.0, 'speechiness': 0.8}\n"
     ]
    }
   ],
   "source": [
    "#Other examples:\n",
    "music_description = 'Sad music for when you are feeling down'\n",
    "spotify_data = llm.get_spotify_recommendation_data(user_input=music_description)\n",
    "print(music_description, ' : ', spotify_data)\n",
    "\n",
    "music_description = 'Instrumental music to help me relax'\n",
    "spotify_data = llm.get_spotify_recommendation_data(user_input=music_description)\n",
    "print(music_description, ' : ', spotify_data)\n",
    "\n",
    "music_description = 'Some rap music with cool lyrics'\n",
    "spotify_data = llm.get_spotify_recommendation_data(user_input=music_description)\n",
    "print(music_description, ' : ', spotify_data)"
   ]
  }
 ],
 "metadata": {
  "kernelspec": {
   "display_name": "spotify_llm_env",
   "language": "python",
   "name": "python3"
  },
  "language_info": {
   "codemirror_mode": {
    "name": "ipython",
    "version": 3
   },
   "file_extension": ".py",
   "mimetype": "text/x-python",
   "name": "python",
   "nbconvert_exporter": "python",
   "pygments_lexer": "ipython3",
   "version": "3.12.4"
  }
 },
 "nbformat": 4,
 "nbformat_minor": 2
}
