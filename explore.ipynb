{
 "cells": [
  {
   "cell_type": "markdown",
   "metadata": {},
   "source": [
    "## Testing LLM and Spotify API"
   ]
  },
  {
   "cell_type": "code",
   "execution_count": 1,
   "metadata": {},
   "outputs": [
    {
     "name": "stdout",
     "output_type": "stream",
     "text": [
      "Name: Taylor Swift\n",
      "Genres: ['pop']\n",
      "Followers: 124740363\n",
      "Spotify URL: https://open.spotify.com/artist/06HL4z0CvFAxyc27GXpf02\n"
     ]
    }
   ],
   "source": [
    "import os\n",
    "import spotipy\n",
    "from spotipy.oauth2 import SpotifyClientCredentials\n",
    "\n",
    "# Replace these with your actual Spotify API credentials\n",
    "client_id = os.getenv('SPOTIFY_CLIENT_ID')\n",
    "client_secret = os.getenv('SPOTIFY_CLIENT_SECRET')\n",
    "\n",
    "# Set up the client credentials manager\n",
    "auth_manager = SpotifyClientCredentials(client_id=client_id, client_secret=client_secret)\n",
    "sp = spotipy.Spotify(auth_manager=auth_manager)\n",
    "\n",
    "# Test the connection by retrieving data, e.g., information about a specific artist\n",
    "artist_name = \"Taylor Swift\"\n",
    "results = sp.search(q=artist_name, type='artist')\n",
    "\n",
    "# Display the artist's information\n",
    "artist = results['artists']['items'][0]\n",
    "print(f\"Name: {artist['name']}\")\n",
    "print(f\"Genres: {artist['genres']}\")\n",
    "print(f\"Followers: {artist['followers']['total']}\")\n",
    "print(f\"Spotify URL: {artist['external_urls']['spotify']}\")"
   ]
  },
  {
   "cell_type": "code",
   "execution_count": 16,
   "metadata": {},
   "outputs": [
    {
     "name": "stdout",
     "output_type": "stream",
     "text": [
      "Extracted song name: Enter Sandman\n"
     ]
    }
   ],
   "source": [
    "#Langchain model\n",
    "from transformers import pipeline\n",
    "from langchain.llms import HuggingFaceHub\n",
    "\n",
    "llm = HuggingFaceHub(\n",
    "    repo_id=\"ibm-granite/granite-3.0-3b-a800m-instruct\",  # replace with the model name you want\n",
    "    huggingfacehub_api_token=os.getenv('HUGGING_FACE_TOKEN')\n",
    ")\n",
    "\n",
    "# Generate text with the LangChain LLM\n",
    "response = llm(\"Recommend me a song from Metallica. But include in your response only the name of the song, and only one song.\")\n",
    "#print(response)\n",
    "\n",
    "# Process the response to extract only the song name\n",
    "# Assuming the format is like: '\"Out of Love\" is a song by Avicii.'\n",
    "start_quote_index = response.find('\"')  # Find the index of the first quote\n",
    "end_quote_index = response.find('\"', start_quote_index + 1)  # Find the index of the closing quote\n",
    "\n",
    "if start_quote_index != -1 and end_quote_index != -1:\n",
    "    # Extract the song name using slicing\n",
    "    song_name = response[start_quote_index + 1:end_quote_index]\n",
    "    print(\"Extracted song name:\", song_name)\n",
    "else:\n",
    "    print(\"Song name not found.\")"
   ]
  },
  {
   "cell_type": "code",
   "execution_count": 17,
   "metadata": {},
   "outputs": [
    {
     "name": "stdout",
     "output_type": "stream",
     "text": [
      "Found track: Enter Sandman (Remastered) by Metallica\n"
     ]
    }
   ],
   "source": [
    "# Search for the song\n",
    "results = sp.search(q=song_name, type='track', limit=1)\n",
    "\n",
    "# Extract track information\n",
    "if results['tracks']['items']:\n",
    "    track = results['tracks']['items'][0]\n",
    "    print(f\"Found track: {track['name']} by {track['artists'][0]['name']}\")\n",
    "else:\n",
    "    print(\"Song not found.\")"
   ]
  },
  {
   "cell_type": "markdown",
   "metadata": {},
   "source": [
    "## Using promt template"
   ]
  },
  {
   "cell_type": "code",
   "execution_count": 36,
   "metadata": {},
   "outputs": [
    {
     "name": "stdout",
     "output_type": "stream",
     "text": [
      "Extracted song name: Clair de Lune\n"
     ]
    }
   ],
   "source": [
    "from langchain.prompts import PromptTemplate\n",
    "from langchain.chains import LLMChain\n",
    "\n",
    "song_description = 'Instrumental music with a piano in the background'\n",
    "\n",
    "#Templates\n",
    "song_template = PromptTemplate(\n",
    "    input_variables=['description'],\n",
    "    template='Recommend me a song that matches this description: {song_description}.\\\n",
    "        Include in your response only the name of the song, and only one song.'\n",
    ")\n",
    "\n",
    "#Chains\n",
    "song_chain = LLMChain(llm= llm, prompt= song_template)\n",
    "if song_description:\n",
    "    response = song_chain.run(song_description)\n",
    "    \n",
    "# Process the response to extract only the song name\n",
    "# Assuming the format is like: '\"Out of Love\" is a song by Avicii.'\n",
    "start_quote_index = response.find('\"')  # Find the index of the first quote\n",
    "end_quote_index = response.find('\"', start_quote_index + 1)  # Find the index of the closing quote\n",
    "\n",
    "if start_quote_index != -1 and end_quote_index != -1:\n",
    "    # Extract the song name using slicing\n",
    "    song_name = response[start_quote_index + 1:end_quote_index]\n",
    "    print(\"Extracted song name:\", song_name)\n",
    "else:\n",
    "    print(\"Song name not found.\")"
   ]
  },
  {
   "cell_type": "code",
   "execution_count": 37,
   "metadata": {},
   "outputs": [
    {
     "name": "stdout",
     "output_type": "stream",
     "text": [
      "Found track: Clair de lune by Claude Debussy\n"
     ]
    }
   ],
   "source": [
    "# Search for the song\n",
    "results = sp.search(q=song_name, type='track', limit=1)\n",
    "\n",
    "# Extract track information\n",
    "if results['tracks']['items']:\n",
    "    track = results['tracks']['items'][0]\n",
    "    print(f\"Found track: {track['name']} by {track['artists'][0]['name']}\")\n",
    "else:\n",
    "    print(\"Song not found.\")"
   ]
  }
 ],
 "metadata": {
  "kernelspec": {
   "display_name": "spotify_llm_env",
   "language": "python",
   "name": "python3"
  },
  "language_info": {
   "codemirror_mode": {
    "name": "ipython",
    "version": 3
   },
   "file_extension": ".py",
   "mimetype": "text/x-python",
   "name": "python",
   "nbconvert_exporter": "python",
   "pygments_lexer": "ipython3",
   "version": "3.12.4"
  }
 },
 "nbformat": 4,
 "nbformat_minor": 2
}
