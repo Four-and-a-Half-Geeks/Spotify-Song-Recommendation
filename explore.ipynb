{
 "cells": [
  {
   "cell_type": "markdown",
   "metadata": {},
   "source": [
    "## Testing LLM and Spotify API"
   ]
  },
  {
   "cell_type": "code",
   "execution_count": 94,
   "metadata": {},
   "outputs": [],
   "source": [
    "##Imports\n",
    "from langchain.prompts import PromptTemplate\n",
    "from langchain.chains import LLMChain\n",
    "import os\n",
    "import spotipy\n",
    "from spotipy.oauth2 import SpotifyClientCredentials\n",
    "from transformers import pipeline\n",
    "from langchain.llms import HuggingFaceHub"
   ]
  },
  {
   "cell_type": "code",
   "execution_count": 95,
   "metadata": {},
   "outputs": [],
   "source": [
    "##Functions\n",
    "def get_song_name(response : str) -> str:\n",
    "    # Process the response to extract only the song name\n",
    "    # Assuming the format is like: '\"Out of Love\" is a song by Avicii.'\n",
    "    start_quote_index = response.find('\"')  # Find the index of the first quote\n",
    "    end_quote_index = response.find('\"', start_quote_index + 1)  # Find the index of the closing quote\n",
    "\n",
    "    if start_quote_index != -1 and end_quote_index != -1:\n",
    "        # Extract the song name using slicing\n",
    "        song_name = response[start_quote_index + 1:end_quote_index]\n",
    "        return song_name\n",
    "    else:\n",
    "        return \"Song name not found.\"\n",
    "    \n",
    "def get_track_from_spotify(spotify_client_id, spotify_client_secret, song_name : str) -> str:\n",
    "    auth_manager = SpotifyClientCredentials(client_id=spotify_client_id, client_secret=spotify_client_secret)\n",
    "    sp = spotipy.Spotify(auth_manager=auth_manager)\n",
    "    # Search for the song\n",
    "    results = sp.search(q=song_name, type='track', limit=1)\n",
    "\n",
    "    # Extract track information\n",
    "    if results['tracks']['items']:\n",
    "        track = results['tracks']['items'][0]\n",
    "        return(f\"Found track: {track['name']} by {track['artists'][0]['name']}\")\n",
    "    else:\n",
    "        return(\"Song not found.\")\n",
    "    \n",
    "def prompt_llm(huggingface_api_token, prompt : str, prompt_template : PromptTemplate = None) -> str:\n",
    "    llm = HuggingFaceHub(\n",
    "    repo_id=\"ibm-granite/granite-3.0-3b-a800m-instruct\",  # replace with the model name you want\n",
    "    huggingfacehub_api_token=huggingface_api_token\n",
    "    )\n",
    "    if prompt_template:\n",
    "        llm_chain = LLMChain(llm= llm, prompt= prompt_template)\n",
    "        response = llm_chain.run(prompt)\n",
    "    else:\n",
    "        response = llm(prompt)\n",
    "\n",
    "    return response"
   ]
  },
  {
   "cell_type": "code",
   "execution_count": 96,
   "metadata": {},
   "outputs": [],
   "source": [
    "\n",
    "# Replace these with your actual Spotify API credentials\n",
    "client_id = os.getenv('SPOTIFY_CLIENT_ID')\n",
    "client_secret = os.getenv('SPOTIFY_CLIENT_SECRET')\n",
    "\n",
    "huggingface_api_token = os.getenv('HUGGING_FACE_TOKEN')"
   ]
  },
  {
   "cell_type": "code",
   "execution_count": 97,
   "metadata": {},
   "outputs": [],
   "source": [
    "# Generate recommendation with the LangChain LLM\n",
    "response = prompt_llm(huggingface_api_token, \"Recommend me a song from Metallica. But include in your response only the name of the song, and only one song.\")\n",
    "#print(response)\n",
    "\n",
    "song_name = get_song_name(response)"
   ]
  },
  {
   "cell_type": "code",
   "execution_count": 98,
   "metadata": {},
   "outputs": [
    {
     "name": "stdout",
     "output_type": "stream",
     "text": [
      "Found track: Enter Sandman (Remastered) by Metallica\n"
     ]
    }
   ],
   "source": [
    "print(get_track_from_spotify(client_id, client_secret, song_name))"
   ]
  },
  {
   "cell_type": "markdown",
   "metadata": {},
   "source": [
    "## Using promt template"
   ]
  },
  {
   "cell_type": "code",
   "execution_count": 108,
   "metadata": {},
   "outputs": [],
   "source": [
    "song_description = 'Upbeat music to dance along'\n",
    "\n",
    "#Templates\n",
    "song_template = PromptTemplate(\n",
    "    input_variables=['description'],\n",
    "    template='Recommend me a song that matches this description: {song_description}.\\\n",
    "        Include in your response only the name of the song, and only one song.'\n",
    ")\n",
    "\n",
    "    \n",
    "song_name = get_song_name(prompt_llm(huggingface_api_token, song_description, song_template))"
   ]
  },
  {
   "cell_type": "code",
   "execution_count": 109,
   "metadata": {},
   "outputs": [
    {
     "name": "stdout",
     "output_type": "stream",
     "text": [
      "Uptown Funk\n",
      "Found track: Uptown Funk (feat. Bruno Mars) by Mark Ronson\n"
     ]
    }
   ],
   "source": [
    "print(song_name)\n",
    "print(get_track_from_spotify(client_id, client_secret, song_name))"
   ]
  }
 ],
 "metadata": {
  "kernelspec": {
   "display_name": "spotify_llm_env",
   "language": "python",
   "name": "python3"
  },
  "language_info": {
   "codemirror_mode": {
    "name": "ipython",
    "version": 3
   },
   "file_extension": ".py",
   "mimetype": "text/x-python",
   "name": "python",
   "nbconvert_exporter": "python",
   "pygments_lexer": "ipython3",
   "version": "3.12.4"
  }
 },
 "nbformat": 4,
 "nbformat_minor": 2
}
